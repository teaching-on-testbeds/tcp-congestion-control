{
 "cells": [
  {
   "cell_type": "markdown",
   "metadata": {},
   "source": [
    "# TCP Congestion Control\n",
    "\n",
    "This experiment shows the basic behavior of TCP congestion control. You’ll see the classic “sawtooth” pattern in a TCP flow’s congestion window, and you’ll see how a TCP flow responds to congestion indicators."
   ],
   "id": "02fb9fc6-b280-40ba-ab2d-81d8f6500bf0"
  },
  {
   "cell_type": "markdown",
   "metadata": {},
   "source": [
    "In this notebook you will:\n",
    "\n",
    "-   Reserve resources for this experiment\n",
    "-   Configure your reserved resources\n",
    "-   Execute an experiment related to TCP congestion control\n",
    "-   Retrieve files saved on a FABRIC resources\n",
    "-   Visualize the experiment results\n",
    "-   Delete your resources to free them for other experimenters\n",
    "\n",
    "**Prerequisites**: This material assumes you have already configured your FABRIC account following the instructions in [Hello, FABRIC](https://teaching-on-testbeds.github.io/hello-fabric/)."
   ],
   "id": "1e36b464-9832-4224-a063-f2f53cd62e4e"
  },
  {
   "cell_type": "markdown",
   "metadata": {},
   "source": [
    "### Configure environment"
   ],
   "id": "52a09caa-f827-49af-844f-da6c7227f514"
  },
  {
   "cell_type": "code",
   "execution_count": null,
   "metadata": {},
   "outputs": [],
   "source": [
    "from fabrictestbed_extensions.fablib.fablib import FablibManager as fablib_manager\n",
    "fablib = fablib_manager() \n",
    "conf = fablib.show_config()"
   ],
   "id": "04062b34-6ab4-4e92-8de5-7421b2e9b4e6"
  },
  {
   "cell_type": "markdown",
   "metadata": {},
   "source": [
    "### Define configuration for this experiment (two hosts and router in line topology)"
   ],
   "id": "53192341-7766-4b94-938e-1625c54736df"
  },
  {
   "cell_type": "code",
   "execution_count": null,
   "metadata": {},
   "outputs": [],
   "source": [
    "slice_name=\"tcp_congestion_control_intro-\" + fablib.get_bastion_username()\n",
    "\n",
    "node_conf = [\n",
    " {'name': \"romeo\",   'cores': 2, 'ram': 4, 'disk': 10, 'image': 'default_ubuntu_22', 'packages': [\"iperf3\", \"moreutils\"]}, \n",
    " {'name': \"juliet\",  'cores': 2, 'ram': 4, 'disk': 10, 'image': 'default_ubuntu_22', 'packages': [\"iperf3\"]}, \n",
    " {'name': \"router\",  'cores': 2, 'ram': 4, 'disk': 10, 'image': 'default_ubuntu_22', 'packages': []}\n",
    "]\n",
    "net_conf = [\n",
    " {\"name\": \"net1\", \"subnet\": \"10.10.1.0/24\", \"nodes\": [{\"name\": \"romeo\",   \"addr\": \"10.10.1.100\"}, {\"name\": \"router\", \"addr\": \"10.10.1.1\"}]},\n",
    " {\"name\": \"net2\", \"subnet\": \"10.10.2.0/24\", \"nodes\": [{\"name\": \"juliet\",  \"addr\": \"10.10.2.100\"}, {\"name\": \"router\", \"addr\": \"10.10.2.1\"}]}\n",
    "]\n",
    "route_conf = [\n",
    " {\"addr\": \"10.10.2.0/24\", \"gw\": \"10.10.1.1\", \"nodes\": [\"romeo\"]},\n",
    " {\"addr\": \"10.10.1.0/24\", \"gw\": \"10.10.2.1\", \"nodes\": [\"juliet\"]}\n",
    "]\n",
    "exp_conf = {'cores': sum([ n['cores'] for n in node_conf]), 'nic': sum([len(n['nodes']) for n in net_conf]) }"
   ],
   "id": "0d982943-c56d-43c2-b483-cb8e94cdf61a"
  },
  {
   "cell_type": "markdown",
   "metadata": {},
   "source": [
    "### Reserve resources\n",
    "\n",
    "Now, we are ready to reserve resources!"
   ],
   "id": "c2cf20c9-4c98-400a-80c2-5bcba41fec5c"
  },
  {
   "cell_type": "markdown",
   "metadata": {},
   "source": [
    "First, make sure you don’t already have a slice with this name:"
   ],
   "id": "f39aeed2-7dcb-4776-86df-9331a61bef73"
  },
  {
   "cell_type": "code",
   "execution_count": null,
   "metadata": {},
   "outputs": [],
   "source": [
    "try:\n",
    "    slice = fablib.get_slice(slice_name)\n",
    "    print(\"You already have a slice by this name!\")\n",
    "    print(\"If you previously reserved resources, skip to the 'log in to resources' section.\")\n",
    "except:\n",
    "    print(\"You don't have a slice named %s yet.\" % slice_name)\n",
    "    print(\"Continue to the next step to make one.\")\n",
    "    slice = fablib.new_slice(name=slice_name)"
   ],
   "id": "ee3d0ac6-f780-4a3c-af41-f08d70ecd22d"
  },
  {
   "cell_type": "markdown",
   "metadata": {},
   "source": [
    "We will reserve resources for our experiment at the EDUKY site:"
   ],
   "id": "649c8977-2049-414a-a8bd-ebb60f67eaff"
  },
  {
   "cell_type": "code",
   "execution_count": null,
   "metadata": {},
   "outputs": [],
   "source": [
    "site_name = 'EDUKY'\n",
    "fablib.show_site(site_name)"
   ],
   "id": "f6e5ade2-081f-40ed-8017-fb1c377f5f4d"
  },
  {
   "cell_type": "markdown",
   "metadata": {},
   "source": [
    "Then we will add hosts and network segments:"
   ],
   "id": "ba484728-61cc-4cc8-b122-31477dd85ec3"
  },
  {
   "cell_type": "code",
   "execution_count": null,
   "metadata": {},
   "outputs": [],
   "source": [
    "# this cell sets up the nodes\n",
    "for n in node_conf:\n",
    "    slice.add_node(name=n['name'], site=site_name, \n",
    "                   cores=n['cores'], \n",
    "                   ram=n['ram'], \n",
    "                   disk=n['disk'], \n",
    "                   image=n['image'])"
   ],
   "id": "ac1f3492-d00d-464f-8e68-865de10e0294"
  },
  {
   "cell_type": "code",
   "execution_count": null,
   "metadata": {},
   "outputs": [],
   "source": [
    "# this cell sets up the network segments\n",
    "for n in net_conf:\n",
    "    ifaces = [slice.get_node(node[\"name\"]).add_component(model=\"NIC_Basic\", \n",
    "                                                 name=n[\"name\"]).get_interfaces()[0] for node in n['nodes'] ]\n",
    "    slice.add_l2network(name=n[\"name\"], type='L2Bridge', interfaces=ifaces)"
   ],
   "id": "fac26ec8-af4d-4601-9ec1-c27fb3886d45"
  },
  {
   "cell_type": "markdown",
   "metadata": {},
   "source": [
    "The following cell submits our request to the FABRIC site. The output of this cell will update automatically as the status of our request changes.\n",
    "\n",
    "-   While it is being prepared, the “State” of the slice will appear as “Configuring”.\n",
    "-   When it is ready, the “State” of the slice will change to “StableOK”.\n",
    "\n",
    "You may prefer to walk away and come back in a few minutes (for simple slices) or a few tens of minutes (for more complicated slices with many resources)."
   ],
   "id": "192839f8-43bb-401c-86c6-4005f2cd0a23"
  },
  {
   "cell_type": "code",
   "execution_count": null,
   "metadata": {},
   "outputs": [],
   "source": [
    "slice.submit()"
   ],
   "id": "def6369d-f31e-465c-9bf5-3e5b37dc2801"
  },
  {
   "cell_type": "code",
   "execution_count": null,
   "metadata": {},
   "outputs": [],
   "source": [
    "slice.get_state()\n",
    "slice.wait_ssh(progress=True)"
   ],
   "id": "c9355a4e-885e-4ae8-965b-23b472be87f3"
  },
  {
   "cell_type": "markdown",
   "metadata": {},
   "source": [
    "### Configure resources\n",
    "\n",
    "Next, we will configure the resources so they are ready to use."
   ],
   "id": "673530c6-abe6-4e7e-a751-6e071f565186"
  },
  {
   "cell_type": "code",
   "execution_count": null,
   "metadata": {},
   "outputs": [],
   "source": [
    "slice = fablib.get_slice(name=slice_name)"
   ],
   "id": "19c69957-85e0-490d-b818-fd09fd2b88df"
  },
  {
   "cell_type": "code",
   "execution_count": null,
   "metadata": {},
   "outputs": [],
   "source": [
    "# install packages\n",
    "# this will take a while and will run in background while you do other steps\n",
    "for n in node_conf:\n",
    "    if len(n['packages']):\n",
    "        node = slice.get_node(n['name'])\n",
    "        pkg = \" \".join(n['packages'])\n",
    "        node.execute_thread(\"sudo apt update; sudo DEBIAN_FRONTEND=noninteractive apt -y install %s\" % pkg)"
   ],
   "id": "b1118b21-9ee1-4e61-86b7-6340cd21bb18"
  },
  {
   "cell_type": "code",
   "execution_count": null,
   "metadata": {},
   "outputs": [],
   "source": [
    "# bring interfaces up and either assign an address (if there is one) or flush address\n",
    "from ipaddress import ip_address, IPv4Address, IPv4Network\n",
    "\n",
    "for net in net_conf:\n",
    "    for n in net['nodes']:\n",
    "        if_name = n['name'] + '-' + net['name'] + '-p1'\n",
    "        iface = slice.get_interface(if_name)\n",
    "        iface.ip_link_up()\n",
    "        if n['addr']:\n",
    "            iface.ip_addr_add(addr=n['addr'], subnet=IPv4Network(net['subnet']))\n",
    "        else:\n",
    "            iface.get_node().execute(\"sudo ip addr flush dev %s\"  % iface.get_device_name())"
   ],
   "id": "1d67b667-04de-4c6e-a37d-575199a26305"
  },
  {
   "cell_type": "code",
   "execution_count": null,
   "metadata": {},
   "outputs": [],
   "source": [
    "# make sure all interfaces are brought up\n",
    "for iface in slice.get_interfaces():\n",
    "    iface.ip_link_up()"
   ],
   "id": "0f3cea96-7aeb-4b73-83b7-6129a2bc6bc3"
  },
  {
   "cell_type": "code",
   "execution_count": null,
   "metadata": {},
   "outputs": [],
   "source": [
    "# prepare a \"hosts\" file that has names and addresses of every node\n",
    "hosts_txt = [ \"%s\\t%s\" % ( n['addr'], n['name'] ) for net in net_conf  for n in net['nodes'] if type(n) is dict and n['addr']]\n",
    "for n in slice.get_nodes():\n",
    "    for h in hosts_txt:\n",
    "        n.execute(\"echo %s | sudo tee -a /etc/hosts\" % h)"
   ],
   "id": "de536933-cdc3-4f78-965a-30d48f28ab81"
  },
  {
   "cell_type": "code",
   "execution_count": null,
   "metadata": {},
   "outputs": [],
   "source": [
    "# enable IPv4 forwarding on all nodes\n",
    "for n in slice.get_nodes():\n",
    "    n.execute(\"sudo sysctl -w net.ipv4.ip_forward=1\")"
   ],
   "id": "f57c8614-604d-4cf5-a017-809d9457d643"
  },
  {
   "cell_type": "code",
   "execution_count": null,
   "metadata": {},
   "outputs": [],
   "source": [
    "# set up static routes\n",
    "for rt in route_conf:\n",
    "    for n in rt['nodes']:\n",
    "        slice.get_node(name=n).ip_route_add(subnet=IPv4Network(rt['addr']), gateway=rt['gw'])"
   ],
   "id": "2d99272f-1514-4785-b04a-6237059c7937"
  },
  {
   "cell_type": "code",
   "execution_count": null,
   "metadata": {},
   "outputs": [],
   "source": [
    "# turn off segmentation offload on interfaces\n",
    "for iface in slice.get_interfaces():\n",
    "    iface_name = iface.get_device_name()\n",
    "    n = iface.get_node()\n",
    "    offloads = [\"gro\", \"lro\", \"gso\", \"tso\"]\n",
    "    for offload in offloads:\n",
    "        n.execute(\"sudo ethtool -K %s %s off\" % (iface_name, offload))"
   ],
   "id": "4f6abffa-8dc3-4309-a6d6-cec997935b7b"
  },
  {
   "cell_type": "markdown",
   "metadata": {},
   "source": [
    "### Draw the network topology"
   ],
   "id": "4bace521-5bb1-4b30-afc6-337549c69f40"
  },
  {
   "cell_type": "markdown",
   "metadata": {},
   "source": [
    "The following cell will draw the network topology, for your reference. The interface name and addresses of each experiment interface will be shown on the drawing."
   ],
   "id": "41361851-b8ab-4128-92e6-e173355253da"
  },
  {
   "cell_type": "code",
   "execution_count": null,
   "metadata": {},
   "outputs": [],
   "source": [
    "l2_nets = [(n.get_name(), {'color': 'lavender'}) for n in slice.get_l2networks() ]\n",
    "l3_nets = [(n.get_name(), {'color': 'pink'}) for n in slice.get_l3networks() ]\n",
    "hosts   =   [(n.get_name(), {'color': 'lightblue'}) for n in slice.get_nodes()]\n",
    "nodes = l2_nets + l3_nets + hosts\n",
    "ifaces = [iface.toDict() for iface in slice.get_interfaces()]\n",
    "edges = [(iface['network'], iface['node'], \n",
    "          {'label': iface['physical_dev'] + '\\n' + iface['ip_addr'] + '\\n' + iface['mac']}) for iface in ifaces]"
   ],
   "id": "977d93a7-a162-423f-848c-a52bec5f56f0"
  },
  {
   "cell_type": "code",
   "execution_count": null,
   "metadata": {},
   "outputs": [],
   "source": [
    "import networkx as nx\n",
    "import matplotlib.pyplot as plt\n",
    "plt.figure(figsize=(len(nodes),len(nodes)))\n",
    "G = nx.Graph()\n",
    "G.add_nodes_from(nodes)\n",
    "G.add_edges_from(edges)\n",
    "pos = nx.spring_layout(G)\n",
    "nx.draw(G, pos, node_shape='s',  \n",
    "        node_color=[n[1]['color'] for n in nodes], \n",
    "        node_size=[len(n[0])*400 for n in nodes],  \n",
    "        with_labels=True);\n",
    "nx.draw_networkx_edge_labels(G,pos,\n",
    "                             edge_labels=nx.get_edge_attributes(G,'label'),\n",
    "                             font_color='gray',  font_size=8, rotate=False);"
   ],
   "id": "965888d5-45da-42ca-b0dd-2b05a925cee5"
  },
  {
   "cell_type": "markdown",
   "metadata": {},
   "source": [
    "### Additional configuration of resources for this experiment"
   ],
   "id": "aa52eb67-7c57-40e2-9e24-999847c63ef5"
  },
  {
   "cell_type": "code",
   "execution_count": null,
   "metadata": {},
   "outputs": [],
   "source": [
    "# get an SSH session on each host and router\n",
    "romeo_ssh  = slice.get_node(name=\"romeo\")\n",
    "juliet_ssh = slice.get_node(name=\"juliet\")\n",
    "router_ssh = slice.get_node(name=\"router\")"
   ],
   "id": "11ef4b21-92a7-4088-839f-25a04c8d9fad"
  },
  {
   "cell_type": "code",
   "execution_count": null,
   "metadata": {},
   "outputs": [],
   "source": [
    "# configure setting on romeo\n",
    "_ = romeo_ssh.execute('sudo sysctl -w net.ipv4.tcp_no_metrics_save=1')"
   ],
   "id": "5b23a475-236e-45da-9541-fa95d668dc8e"
  },
  {
   "cell_type": "markdown",
   "metadata": {},
   "source": [
    "Now, we will configure the “router” node. Run the following cell to configure it as a 1 Mbps bottleneck, with a buffer size of 0.1 MB, in both directions:"
   ],
   "id": "0a8c7b7c-dc4f-4499-b3a3-ca7f89e2fc33"
  },
  {
   "cell_type": "code",
   "execution_count": null,
   "metadata": {},
   "outputs": [],
   "source": [
    "# configure setting on router\n",
    "for iface_obj in [slice.get_interface(i) for i in [\"router-net1-p1\", \"router-net2-p1\"]]:\n",
    "    iface = iface_obj.get_device_name()\n",
    "    cmds = f\"\"\"\n",
    "    sudo tc qdisc del dev {iface} root\n",
    "    sudo tc qdisc add dev {iface} root handle 1: htb default 3\n",
    "    sudo tc class add dev {iface} parent 1: classid 1:3 htb rate 1Mbit\n",
    "    sudo tc qdisc add dev {iface} parent 1:3 handle 3: bfifo limit 0.1MB\n",
    "    \"\"\"\n",
    "    _ = router_ssh.execute(cmds)"
   ],
   "id": "c056be66-d7b1-4dd8-8e56-b8e2eed01dc7"
  },
  {
   "cell_type": "markdown",
   "metadata": {},
   "source": [
    "The parameters of the TCP congestion control algorithm, such as congestion window and slow start threshold, are tracked at the sender side. To visualize these, we will use a script that checks socket statistics and saves them to a file at regular intervals. The next cell uploads this script to the “romeo” host."
   ],
   "id": "bc8ea5bd-1050-465e-b0e4-cdb4959c0dcb"
  },
  {
   "cell_type": "code",
   "execution_count": null,
   "metadata": {},
   "outputs": [],
   "source": [
    "import os\n",
    "script_path = os.path.join(os.getcwd() + \"/scripts\", \"ss-output.sh\")\n",
    "romeo_ssh.upload_file(script_path, \"ss-output.sh\")"
   ],
   "id": "d5dc7ae4-a05c-4b6c-b511-5b23b25d0ad5"
  },
  {
   "cell_type": "markdown",
   "metadata": {},
   "source": [
    "### Execute the experiment and visualize the results"
   ],
   "id": "240d2636-a7d4-47a8-bbeb-2e794115d9e9"
  },
  {
   "cell_type": "markdown",
   "metadata": {},
   "source": [
    "Next, we will generate some TCP flows between the two end hosts, and use it to observe the behavior of the TCP congestion control algorithm.\n",
    "\n",
    "On the “juliet” host, we will receive the TCP flows. On the “romeo” host, we will send three TCP flows using TCP Reno, and monitor the congestion window and slow start threshold. It will run for about one minutes."
   ],
   "id": "34c3855c-bc24-4f30-88a6-bfa7b599cbf0"
  },
  {
   "cell_type": "code",
   "execution_count": null,
   "metadata": {},
   "outputs": [],
   "source": [
    "import time\n",
    "# start the receiver on juliet\n",
    "_ = juliet_ssh.execute('iperf3 -s -1  -D')\n",
    "# on romeo, start monitoring the connection\n",
    "_ = romeo_ssh.execute_thread('bash ss-output.sh 10.10.2.100')\n",
    "time.sleep(1)\n",
    "# then, on romeo, start sending TCP flows\n",
    "_ = romeo_ssh.execute('iperf3 -c juliet -P 3 -i 10 -t 60 -C reno')"
   ],
   "id": "f570c5eb-8c68-4de8-baf6-4fad42897cd4"
  },
  {
   "cell_type": "markdown",
   "metadata": {},
   "source": [
    "Once it is done, we will stop the “monitor” and it will save its output to a file -"
   ],
   "id": "dc3b920e-999a-4ffe-b2c0-5e0505dcd537"
  },
  {
   "cell_type": "code",
   "execution_count": null,
   "metadata": {},
   "outputs": [],
   "source": [
    "_ = romeo_ssh.execute(\"kill -INT -$(ps x | grep '[b]ash ss-output.sh' | awk '{print $1}')\")"
   ],
   "id": "53272333-5f75-4cd9-95f1-48679a7612c4"
  },
  {
   "cell_type": "markdown",
   "metadata": {},
   "source": [
    "We will transfer the file from the FABRIC resource:"
   ],
   "id": "726889fa-166b-45ac-b0f6-08398cde5740"
  },
  {
   "cell_type": "code",
   "execution_count": null,
   "metadata": {},
   "outputs": [],
   "source": [
    "import os\n",
    "romeo_ssh.download_file(os.path.join(os.getcwd() + \"/sender-ss.csv\"), \"sender-ss.csv\")"
   ],
   "id": "22cb31cb-5a88-4aed-bb69-b70a6f0b6c98"
  },
  {
   "cell_type": "code",
   "execution_count": null,
   "metadata": {},
   "outputs": [],
   "source": [
    "import pandas as pd\n",
    "import matplotlib.pyplot as plt\n",
    "\n",
    "df = pd.read_csv(\"sender-ss.csv\", names=['time', 'sender', 'retx_unacked', 'retx_cum', 'cwnd', 'ssthresh', 'rtt'])\n",
    "\n",
    "# exclude the \"control\" flow\n",
    "s = df.groupby('sender').size()\n",
    "df_filtered = df[df.groupby(\"sender\")['sender'].transform('size') > 100]\n",
    "\n",
    "senders = df_filtered.sender.unique()\n",
    "\n",
    "time_min = df_filtered.time.min()\n",
    "cwnd_max = 1.1*df_filtered.cwnd.max()\n",
    "dfs = [df_filtered[df_filtered.sender==senders[i]] for i in range(3)]\n",
    "\n",
    "fig, axs = plt.subplots(len(senders), sharex=True, figsize=(12,8))\n",
    "fig.suptitle('CWND over time')\n",
    "for i in range(len(senders)):\n",
    "    if i==len(senders)-1:\n",
    "        axs[i].plot(dfs[i]['time']-time_min, dfs[i]['cwnd'], label=\"cwnd\")\n",
    "        axs[i].plot(dfs[i]['time']-time_min, dfs[i]['ssthresh'], label=\"ssthresh\")\n",
    "        axs[i].set_ylim([0,cwnd_max])\n",
    "        axs[i].set_xlabel(\"Time (s)\");\n",
    "    else:\n",
    "        axs[i].plot(dfs[i]['time']-time_min, dfs[i]['cwnd'])\n",
    "        axs[i].plot(dfs[i]['time']-time_min, dfs[i]['ssthresh'])\n",
    "        axs[i].set_ylim([0,cwnd_max])\n",
    "\n",
    "\n",
    "plt.tight_layout();\n",
    "fig.legend(loc='upper right', ncol=2);"
   ],
   "id": "7540d8a3-f0b7-4e6a-8b31-a500a8bdf674"
  },
  {
   "cell_type": "markdown",
   "metadata": {},
   "source": [
    "At the beginning of each flow, it operates in slow start mode, where the congestion window increases exponentially. When a congestion event occurs, as indicated by the receipt of multiple duplicate ACKs, the slow start threshold is set to half of the current CWND, and then the CWND is reduces to the slow start threshold.\n",
    "\n",
    "We’ll often see packet losses occur at the same time in multiple flows sharing a bottleneck (as in the figure above), because when the buffer is full, new packets arriving from all flows are dropped."
   ],
   "id": "7ae70fff-ec63-4047-af68-ae181f01d807"
  },
  {
   "cell_type": "markdown",
   "metadata": {},
   "source": [
    "### Delete your slice"
   ],
   "id": "31f5ff61-d384-4c7a-96df-cdc81d8e8e18"
  },
  {
   "cell_type": "markdown",
   "metadata": {},
   "source": [
    "When you finish your experiment, you should delete your slice! The following cells deletes all the resources in your slice, freeing them for other experimenters."
   ],
   "id": "e98d0f02-beb1-4883-9b83-1967bf0a7285"
  },
  {
   "cell_type": "code",
   "execution_count": null,
   "metadata": {},
   "outputs": [],
   "source": [
    "slice = fablib.get_slice(name=slice_name)\n",
    "fablib.delete_slice(slice_name)"
   ],
   "id": "33cb4c81-344c-41e6-b3b5-642c7f61bc91"
  },
  {
   "cell_type": "code",
   "execution_count": null,
   "metadata": {},
   "outputs": [],
   "source": [
    "# slice should end up in \"Dead\" state\n",
    "# re-run this cell until you see it in \"Dead\" state\n",
    "slice.update()\n",
    "_ = slice.show()"
   ],
   "id": "6b13fbbb-49bc-4afc-acea-a98d57871a22"
  }
 ],
 "nbformat": 4,
 "nbformat_minor": 5,
 "metadata": {}
}
