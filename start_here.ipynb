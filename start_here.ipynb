{
 "cells": [
  {
   "cell_type": "markdown",
   "metadata": {},
   "source": [
    "# TCP Congestion Control"
   ],
   "id": "b11b60ce-1325-4ba0-a53b-35372de30fc9"
  },
  {
   "cell_type": "markdown",
   "metadata": {},
   "source": [
    "In this notebook you will:\n",
    "\n",
    "-   Reserve resources for this experiment\n",
    "-   Configure your reserved resources\n",
    "-   Execute an experiment related to TCP congestion control\n",
    "-   Retrieve files saved on a FABRIC resources\n",
    "-   Visualize the experiment results\n",
    "-   Delete your resources to free them for other experimenters\n",
    "\n",
    "**Prerequisites**: This material assumes you have already configured your FABRIC account following the instructions in [Hello, FABRIC](https://teaching-on-testbeds.github.io/hello-fabric/)."
   ],
   "id": "3e123744-e3a1-4130-bd7c-7f6c1a3fa89f"
  },
  {
   "cell_type": "markdown",
   "metadata": {},
   "source": [
    "### Configure environment"
   ],
   "id": "4e440634-941f-4bfe-9c2f-250b15d41fbb"
  },
  {
   "cell_type": "code",
   "execution_count": null,
   "metadata": {},
   "outputs": [],
   "source": [
    "from fabrictestbed_extensions.fablib.fablib import FablibManager as fablib_manager\n",
    "fablib = fablib_manager() \n",
    "conf = fablib.show_config()"
   ],
   "id": "a479362f-24a4-4fc8-b80d-e745085aaea0"
  },
  {
   "cell_type": "markdown",
   "metadata": {},
   "source": [
    "### Define configuration for this experiment (two hosts and router in line topology)"
   ],
   "id": "f4bb55a4-ccac-4162-a72f-5140fa255c98"
  },
  {
   "cell_type": "code",
   "execution_count": null,
   "metadata": {},
   "outputs": [],
   "source": [
    "slice_name=\"tcp_congestion_control_intro-\" + fablib.get_bastion_username()\n",
    "\n",
    "node_conf = [\n",
    " {'name': \"romeo\",   'cores': 2, 'ram': 4, 'disk': 10, 'image': 'default_ubuntu_22', 'packages': [\"iperf3\", \"moreutils\"]}, \n",
    " {'name': \"juliet\",  'cores': 2, 'ram': 4, 'disk': 10, 'image': 'default_ubuntu_22', 'packages': [\"iperf3\"]}, \n",
    " {'name': \"router\",  'cores': 2, 'ram': 4, 'disk': 10, 'image': 'default_ubuntu_22', 'packages': []}\n",
    "]\n",
    "net_conf = [\n",
    " {\"name\": \"net1\", \"subnet\": \"10.10.1.0/24\", \"nodes\": [{\"name\": \"romeo\",   \"addr\": \"10.10.1.100\"}, {\"name\": \"router\", \"addr\": \"10.10.1.1\"}]},\n",
    " {\"name\": \"net2\", \"subnet\": \"10.10.2.0/24\", \"nodes\": [{\"name\": \"juliet\",  \"addr\": \"10.10.2.100\"}, {\"name\": \"router\", \"addr\": \"10.10.2.1\"}]}\n",
    "]\n",
    "route_conf = [\n",
    " {\"addr\": \"10.10.2.0/24\", \"gw\": \"10.10.1.1\", \"nodes\": [\"romeo\"]},\n",
    " {\"addr\": \"10.10.1.0/24\", \"gw\": \"10.10.2.1\", \"nodes\": [\"juliet\"]}\n",
    "]\n",
    "exp_conf = {'cores': sum([ n['cores'] for n in node_conf]), 'nic': sum([len(n['nodes']) for n in net_conf]) }"
   ],
   "id": "174f82c9-4257-46fa-b86e-a651e3d554fb"
  },
  {
   "cell_type": "markdown",
   "metadata": {},
   "source": [
    "### Reserve resources\n",
    "\n",
    "Now, we are ready to reserve resources!"
   ],
   "id": "3e0480d6-ca1a-47b7-b406-946379cb35ff"
  },
  {
   "cell_type": "markdown",
   "metadata": {},
   "source": [
    "First, make sure you don’t already have a slice with this name:"
   ],
   "id": "29c66040-bcf8-4782-8bae-931ff8767cf6"
  },
  {
   "cell_type": "code",
   "execution_count": null,
   "metadata": {},
   "outputs": [],
   "source": [
    "try:\n",
    "    slice = fablib.get_slice(slice_name)\n",
    "    print(\"You already have a slice by this name!\")\n",
    "    print(\"If you previously reserved resources, skip to the 'log in to resources' section.\")\n",
    "except:\n",
    "    print(\"You don't have a slice named %s yet.\" % slice_name)\n",
    "    print(\"Continue to the next step to make one.\")\n",
    "    slice = fablib.new_slice(name=slice_name)"
   ],
   "id": "0d0167ca-114a-41fc-ab59-f9037fd1c706"
  },
  {
   "cell_type": "markdown",
   "metadata": {},
   "source": [
    "We will reserve resources for our experiment at the EDUKY site:"
   ],
   "id": "93957468-058e-4cd6-8375-a908622c9f36"
  },
  {
   "cell_type": "code",
   "execution_count": null,
   "metadata": {},
   "outputs": [],
   "source": [
    "site_name = 'EDUKY'\n",
    "fablib.show_site(site_name)"
   ],
   "id": "7a4913f2-0c0e-4ca3-8a2b-b2d14da2f5a0"
  },
  {
   "cell_type": "markdown",
   "metadata": {},
   "source": [
    "Then we will add hosts and network segments:"
   ],
   "id": "3b22dc84-7308-459d-b897-3a45045fb7a0"
  },
  {
   "cell_type": "code",
   "execution_count": null,
   "metadata": {},
   "outputs": [],
   "source": [
    "# this cell sets up the nodes\n",
    "for n in node_conf:\n",
    "    slice.add_node(name=n['name'], site=site_name, \n",
    "                   cores=n['cores'], \n",
    "                   ram=n['ram'], \n",
    "                   disk=n['disk'], \n",
    "                   image=n['image'])"
   ],
   "id": "079cdcbe-3417-46e2-879d-4942fdf4fdf7"
  },
  {
   "cell_type": "code",
   "execution_count": null,
   "metadata": {},
   "outputs": [],
   "source": [
    "# this cell sets up the network segments\n",
    "for n in net_conf:\n",
    "    ifaces = [slice.get_node(node[\"name\"]).add_component(model=\"NIC_Basic\", \n",
    "                                                 name=n[\"name\"]).get_interfaces()[0] for node in n['nodes'] ]\n",
    "    slice.add_l2network(name=n[\"name\"], type='L2Bridge', interfaces=ifaces)"
   ],
   "id": "ae5a25a5-7090-47ea-a3d9-ffeec8b21c74"
  },
  {
   "cell_type": "markdown",
   "metadata": {},
   "source": [
    "The following cell submits our request to the FABRIC site. The output of this cell will update automatically as the status of our request changes.\n",
    "\n",
    "-   While it is being prepared, the “State” of the slice will appear as “Configuring”.\n",
    "-   When it is ready, the “State” of the slice will change to “StableOK”.\n",
    "\n",
    "You may prefer to walk away and come back in a few minutes (for simple slices) or a few tens of minutes (for more complicated slices with many resources)."
   ],
   "id": "9c5b0a38-59f3-477c-87ca-61a37b0fa0d4"
  },
  {
   "cell_type": "code",
   "execution_count": null,
   "metadata": {},
   "outputs": [],
   "source": [
    "slice.submit()"
   ],
   "id": "dba70307-95d8-45a7-80be-61d495b473f1"
  },
  {
   "cell_type": "code",
   "execution_count": null,
   "metadata": {},
   "outputs": [],
   "source": [
    "slice.get_state()\n",
    "slice.wait_ssh(progress=True)"
   ],
   "id": "7814b056-5b33-4c2b-9f2c-d57e395d4975"
  },
  {
   "cell_type": "markdown",
   "metadata": {},
   "source": [
    "### Configure resources\n",
    "\n",
    "Next, we will configure the resources so they are ready to use."
   ],
   "id": "d71e4c41-9f47-4b91-b916-d78ba5d33f65"
  },
  {
   "cell_type": "code",
   "execution_count": null,
   "metadata": {},
   "outputs": [],
   "source": [
    "slice = fablib.get_slice(name=slice_name)"
   ],
   "id": "81460da0-14bf-4f0c-a351-1cb8e60be001"
  },
  {
   "cell_type": "code",
   "execution_count": null,
   "metadata": {},
   "outputs": [],
   "source": [
    "# install packages\n",
    "# this will take a while and will run in background while you do other steps\n",
    "for n in node_conf:\n",
    "    if len(n['packages']):\n",
    "        node = slice.get_node(n['name'])\n",
    "        pkg = \" \".join(n['packages'])\n",
    "        node.execute_thread(\"sudo apt update; sudo DEBIAN_FRONTEND=noninteractive apt -y install %s\" % pkg)"
   ],
   "id": "88332c7e-8db1-4d31-8d02-1f18f507b643"
  },
  {
   "cell_type": "code",
   "execution_count": null,
   "metadata": {},
   "outputs": [],
   "source": [
    "# bring interfaces up and either assign an address (if there is one) or flush address\n",
    "from ipaddress import ip_address, IPv4Address, IPv4Network\n",
    "\n",
    "for net in net_conf:\n",
    "    for n in net['nodes']:\n",
    "        if_name = n['name'] + '-' + net['name'] + '-p1'\n",
    "        iface = slice.get_interface(if_name)\n",
    "        iface.ip_link_up()\n",
    "        if n['addr']:\n",
    "            iface.ip_addr_add(addr=n['addr'], subnet=IPv4Network(net['subnet']))\n",
    "        else:\n",
    "            iface.get_node().execute(\"sudo ip addr flush dev %s\"  % iface.get_device_name())"
   ],
   "id": "f3b7382b-4f1a-4567-9d04-391467a47382"
  },
  {
   "cell_type": "code",
   "execution_count": null,
   "metadata": {},
   "outputs": [],
   "source": [
    "# make sure all interfaces are brought up\n",
    "for iface in slice.get_interfaces():\n",
    "    iface.ip_link_up()"
   ],
   "id": "53f85e4e-69a1-47b2-8552-a2c2af5afb71"
  },
  {
   "cell_type": "code",
   "execution_count": null,
   "metadata": {},
   "outputs": [],
   "source": [
    "# prepare a \"hosts\" file that has names and addresses of every node\n",
    "hosts_txt = [ \"%s\\t%s\" % ( n['addr'], n['name'] ) for net in net_conf  for n in net['nodes'] if type(n) is dict and n['addr']]\n",
    "for n in slice.get_nodes():\n",
    "    for h in hosts_txt:\n",
    "        n.execute(\"echo %s | sudo tee -a /etc/hosts\" % h)"
   ],
   "id": "ca019aec-b273-4551-86d4-561892edb001"
  },
  {
   "cell_type": "code",
   "execution_count": null,
   "metadata": {},
   "outputs": [],
   "source": [
    "# enable IPv4 forwarding on all nodes\n",
    "for n in slice.get_nodes():\n",
    "    n.execute(\"sudo sysctl -w net.ipv4.ip_forward=1\")"
   ],
   "id": "c0c62637-4bee-467c-9d02-0690c2e1fc04"
  },
  {
   "cell_type": "code",
   "execution_count": null,
   "metadata": {},
   "outputs": [],
   "source": [
    "# set up static routes\n",
    "for rt in route_conf:\n",
    "    for n in rt['nodes']:\n",
    "        slice.get_node(name=n).ip_route_add(subnet=IPv4Network(rt['addr']), gateway=rt['gw'])"
   ],
   "id": "729df326-4b19-4535-b76e-5621555b0a26"
  },
  {
   "cell_type": "code",
   "execution_count": null,
   "metadata": {},
   "outputs": [],
   "source": [
    "# turn off segmentation offload on interfaces\n",
    "for iface in slice.get_interfaces():\n",
    "    iface_name = iface.get_device_name()\n",
    "    n = iface.get_node()\n",
    "    offloads = [\"gro\", \"lro\", \"gso\", \"tso\"]\n",
    "    for offload in offloads:\n",
    "        n.execute(\"sudo ethtool -K %s %s off\" % (iface_name, offload))"
   ],
   "id": "e69ab7c6-8647-4cca-aa64-c8c77d8ec8af"
  },
  {
   "cell_type": "markdown",
   "metadata": {},
   "source": [
    "### Draw the network topology"
   ],
   "id": "4f2a5e60-58f5-4e0a-ac3b-b8ae26a697d6"
  },
  {
   "cell_type": "markdown",
   "metadata": {},
   "source": [
    "The following cell will draw the network topology, for your reference. The interface name and addresses of each experiment interface will be shown on the drawing."
   ],
   "id": "b423c579-4853-4a37-9572-565eed508922"
  },
  {
   "cell_type": "code",
   "execution_count": null,
   "metadata": {},
   "outputs": [],
   "source": [
    "l2_nets = [(n.get_name(), {'color': 'lavender'}) for n in slice.get_l2networks() ]\n",
    "l3_nets = [(n.get_name(), {'color': 'pink'}) for n in slice.get_l3networks() ]\n",
    "hosts   =   [(n.get_name(), {'color': 'lightblue'}) for n in slice.get_nodes()]\n",
    "nodes = l2_nets + l3_nets + hosts\n",
    "ifaces = [iface.toDict() for iface in slice.get_interfaces()]\n",
    "edges = [(iface['network'], iface['node'], \n",
    "          {'label': iface['physical_dev'] + '\\n' + iface['ip_addr'] + '\\n' + iface['mac']}) for iface in ifaces]"
   ],
   "id": "fd5320d2-74e5-44fd-9ab3-1cc0715224b1"
  },
  {
   "cell_type": "code",
   "execution_count": null,
   "metadata": {},
   "outputs": [],
   "source": [
    "import networkx as nx\n",
    "import matplotlib.pyplot as plt\n",
    "plt.figure(figsize=(len(nodes),len(nodes)))\n",
    "G = nx.Graph()\n",
    "G.add_nodes_from(nodes)\n",
    "G.add_edges_from(edges)\n",
    "pos = nx.spring_layout(G)\n",
    "nx.draw(G, pos, node_shape='s',  \n",
    "        node_color=[n[1]['color'] for n in nodes], \n",
    "        node_size=[len(n[0])*400 for n in nodes],  \n",
    "        with_labels=True);\n",
    "nx.draw_networkx_edge_labels(G,pos,\n",
    "                             edge_labels=nx.get_edge_attributes(G,'label'),\n",
    "                             font_color='gray',  font_size=8, rotate=False);"
   ],
   "id": "bbc9440f-78fe-46d7-8ca5-2c4a78ac5a97"
  },
  {
   "cell_type": "markdown",
   "metadata": {},
   "source": [
    "### Additional configuration of resources for this experiment"
   ],
   "id": "b9e29a6e-e16b-44bb-b3bf-523ddeeb221e"
  },
  {
   "cell_type": "code",
   "execution_count": null,
   "metadata": {},
   "outputs": [],
   "source": [
    "# get an SSH session on each host and router\n",
    "romeo_ssh  = slice.get_node(name=\"romeo\")\n",
    "juliet_ssh = slice.get_node(name=\"juliet\")\n",
    "router_ssh = slice.get_node(name=\"router\")"
   ],
   "id": "95a5f27d-fc26-4fef-99f3-8cfeaa84ca75"
  },
  {
   "cell_type": "code",
   "execution_count": null,
   "metadata": {},
   "outputs": [],
   "source": [
    "# configure setting on romeo\n",
    "_ = romeo_ssh.execute('sudo sysctl -w net.ipv4.tcp_no_metrics_save=1')"
   ],
   "id": "8163a2c3-4e51-4cc0-8752-478df19ec5fe"
  },
  {
   "cell_type": "markdown",
   "metadata": {},
   "source": [
    "Now, we will configure the “router” node. Run the following cell to configure it as a 1 Mbps bottleneck, with a buffer size of 0.1 MB, in both directions:"
   ],
   "id": "ad43a271-b33d-43a0-9c08-770800053a0e"
  },
  {
   "cell_type": "code",
   "execution_count": null,
   "metadata": {},
   "outputs": [],
   "source": [
    "# configure setting on router\n",
    "for iface_obj in [slice.get_interface(i) for i in [\"router-net1-p1\", \"router-net2-p1\"]]:\n",
    "    iface = iface_obj.get_device_name()\n",
    "    cmds = f\"\"\"\n",
    "    sudo tc qdisc del dev {iface} root\n",
    "    sudo tc qdisc add dev {iface} root handle 1: htb default 3\n",
    "    sudo tc class add dev {iface} parent 1: classid 1:3 htb rate 1Mbit\n",
    "    sudo tc qdisc add dev {iface} parent 1:3 handle 3: bfifo limit 0.1MB\n",
    "    \"\"\"\n",
    "    _ = router_ssh.execute(cmds)"
   ],
   "id": "70336684-ce68-43e7-92c1-4fd1bc069e77"
  },
  {
   "cell_type": "markdown",
   "metadata": {},
   "source": [
    "The parameters of the TCP congestion control algorithm, such as congestion window and slow start threshold, are tracked at the sender side. To visualize these, we will use a script that checks socket statistics and saves them to a file at regular intervals. The next cell uploads this script to the “romeo” host."
   ],
   "id": "a6b817d7-910a-4f6e-b842-a1a0a38b7f23"
  },
  {
   "cell_type": "code",
   "execution_count": null,
   "metadata": {},
   "outputs": [],
   "source": [
    "import os\n",
    "script_path = os.path.join(os.getcwd() + \"/scripts\", \"ss-output.sh\")\n",
    "romeo_ssh.upload_file(script_path, \"ss-output.sh\")"
   ],
   "id": "ccabe443-1bf9-43e3-9ecd-d7cd433a379f"
  },
  {
   "cell_type": "markdown",
   "metadata": {},
   "source": [
    "### Execute the experiment and visualize the results"
   ],
   "id": "adb58bb2-0dd3-43a8-b64f-3f9e6d4c33ff"
  },
  {
   "cell_type": "markdown",
   "metadata": {},
   "source": [
    "Next, we will generate some TCP flows between the two end hosts, and use it to observe the behavior of the TCP congestion control algorithm.\n",
    "\n",
    "On the “juliet” host, we will receive the TCP flows. On the “romeo” host, we will send three TCP flows using TCP Reno, and monitor the congestion window and slow start threshold. It will run for about one minutes."
   ],
   "id": "0a076be6-641e-4be2-8eb7-16a95a8bbd32"
  },
  {
   "cell_type": "code",
   "execution_count": null,
   "metadata": {},
   "outputs": [],
   "source": [
    "import time\n",
    "# start the receiver on juliet\n",
    "_ = juliet_ssh.execute('iperf3 -s -1  -D')\n",
    "# on romeo, start monitoring the connection\n",
    "_ = romeo_ssh.execute_thread('bash ss-output.sh 10.10.2.100')\n",
    "time.sleep(1)\n",
    "# then, on romeo, start sending TCP flows\n",
    "_ = romeo_ssh.execute('iperf3 -c juliet -P 3 -i 10 -t 60 -C reno')"
   ],
   "id": "aaca2f5f-ab00-431f-b940-d4c45385099c"
  },
  {
   "cell_type": "markdown",
   "metadata": {},
   "source": [
    "Once it is done, we will stop the “monitor” and it will save its output to a file -"
   ],
   "id": "f0c135bf-eda6-4d02-944b-db7893ef7de9"
  },
  {
   "cell_type": "code",
   "execution_count": null,
   "metadata": {},
   "outputs": [],
   "source": [
    "_ = romeo_ssh.execute(\"kill -INT -$(ps x | grep '[b]ash ss-output.sh' | awk '{print $1}')\")"
   ],
   "id": "b58b948b-59c1-490a-8d94-a1258ae451b4"
  },
  {
   "cell_type": "markdown",
   "metadata": {},
   "source": [
    "We will transfer the file from the FABRIC resource:"
   ],
   "id": "d98d9798-a96c-4c0f-8bd8-554227a37c5f"
  },
  {
   "cell_type": "code",
   "execution_count": null,
   "metadata": {},
   "outputs": [],
   "source": [
    "import os\n",
    "romeo_ssh.download_file(os.path.join(os.getcwd() + \"/sender-ss.csv\"), \"sender-ss.csv\")"
   ],
   "id": "fb61288d-4231-4526-8aa3-400534afaf84"
  },
  {
   "cell_type": "code",
   "execution_count": null,
   "metadata": {},
   "outputs": [],
   "source": [
    "import pandas as pd\n",
    "import matplotlib.pyplot as plt\n",
    "\n",
    "df = pd.read_csv(\"sender-ss.csv\", names=['time', 'sender', 'retx_unacked', 'retx_cum', 'cwnd', 'ssthresh'])\n",
    "\n",
    "# exclude the \"control\" flow\n",
    "s = df.groupby('sender').size()\n",
    "df_filtered = df[df.groupby(\"sender\")['sender'].transform('size') > 100]\n",
    "\n",
    "senders = df_filtered.sender.unique()\n",
    "\n",
    "time_min = df_filtered.time.min()\n",
    "cwnd_max = 1.1*df_filtered.cwnd.max()\n",
    "dfs = [df_filtered[df_filtered.sender==senders[i]] for i in range(3)]\n",
    "\n",
    "fig, axs = plt.subplots(len(senders), sharex=True, figsize=(12,8))\n",
    "fig.suptitle('CWND over time')\n",
    "for i in range(len(senders)):\n",
    "    if i==len(senders)-1:\n",
    "        axs[i].plot(dfs[i]['time']-time_min, dfs[i]['cwnd'], label=\"cwnd\")\n",
    "        axs[i].plot(dfs[i]['time']-time_min, dfs[i]['ssthresh'], label=\"ssthresh\")\n",
    "        axs[i].set_ylim([0,cwnd_max])\n",
    "        axs[i].set_xlabel(\"Time (s)\");\n",
    "    else:\n",
    "        axs[i].plot(dfs[i]['time']-time_min, dfs[i]['cwnd'])\n",
    "        axs[i].plot(dfs[i]['time']-time_min, dfs[i]['ssthresh'])\n",
    "        axs[i].set_ylim([0,cwnd_max])\n",
    "\n",
    "\n",
    "plt.tight_layout();\n",
    "fig.legend(loc='upper right', ncol=2);"
   ],
   "id": "ba81ecef-7baa-4b42-9990-fd3452943126"
  },
  {
   "cell_type": "markdown",
   "metadata": {},
   "source": [
    "At the beginning of each flow, it operates in slow start mode, where the congestion window increases exponentially. When a congestion event occurs, as indicated by the receipt of multiple duplicate ACKs, the slow start threshold is set to half of the current CWND, and then the CWND is reduces to the slow start threshold.\n",
    "\n",
    "We’ll often see packet losses occur at the same time in multiple flows sharing a bottleneck (as in the figure above), because when the buffer is full, new packets arriving from all flows are dropped."
   ],
   "id": "3f15bb82-f46b-4ed7-8225-3bc44ceabf01"
  },
  {
   "cell_type": "markdown",
   "metadata": {},
   "source": [
    "### Delete your slice"
   ],
   "id": "39de07c5-35e2-45d3-9ca8-075523ab9a8b"
  },
  {
   "cell_type": "markdown",
   "metadata": {},
   "source": [
    "When you finish your experiment, you should delete your slice! The following cells deletes all the resources in your slice, freeing them for other experimenters."
   ],
   "id": "f717eae1-a805-4653-a4de-474a85fa84f1"
  },
  {
   "cell_type": "code",
   "execution_count": null,
   "metadata": {},
   "outputs": [],
   "source": [
    "slice = fablib.get_slice(name=slice_name)\n",
    "fablib.delete_slice(slice_name)"
   ],
   "id": "e6d88dbf-56f3-40f1-a6a2-ee41cc0a1f27"
  },
  {
   "cell_type": "code",
   "execution_count": null,
   "metadata": {},
   "outputs": [],
   "source": [
    "# slice should end up in \"Dead\" state\n",
    "# re-run this cell until you see it in \"Dead\" state\n",
    "slice.update()\n",
    "_ = slice.show()"
   ],
   "id": "c7dedf4b-2660-42da-aa3a-dcb86ba105d5"
  }
 ],
 "nbformat": 4,
 "nbformat_minor": 5,
 "metadata": {}
}
